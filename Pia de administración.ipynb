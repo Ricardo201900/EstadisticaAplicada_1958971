{
 "cells": [
  {
   "cell_type": "code",
   "execution_count": 31,
   "metadata": {},
   "outputs": [],
   "source": [
    "from scipy.stats import binom\n",
    "import random\n",
    "import numpy as np"
   ]
  },
  {
   "cell_type": "code",
   "execution_count": 45,
   "metadata": {},
   "outputs": [
    {
     "name": "stdout",
     "output_type": "stream",
     "text": [
      "El valor promedio de perdida es de: 15127.39\n"
     ]
    }
   ],
   "source": [
    "Probabilidad=[0.3229,0.2917,0.0208,0.2917,0.0313,0.0417] #Probabilidad de que compren un tenis por categoria\n",
    "Precio=[2603.23,1782.14,1800.00,2535.71,1766.71,2225.00] #Precio de un tenis por categoria\n",
    "Perdida_promedio=[]\n",
    "for i in range(10000):\n",
    "    B=binom.rvs(1,0.0181,size=365) #Creación de los días que nos robaron, el 365 se debe a los días del año que nos pueden robar\n",
    "    P=random.choices(Precio,Probabilidad,k=365) #Creación del precio de los tenis que nos robaron, el 365 se debe a los días del año que nos pueden robar\n",
    "    Perdida_suma=B*P\n",
    "    Perdida_promedio.append(Perdida_suma.sum()) #Suma de los precios de los tenis que nos robaron\n",
    "print('El valor promedio de perdida es de: 'f'{np.mean(Perdida_promedio):.2f}')"
   ]
  }
 ],
 "metadata": {
  "kernelspec": {
   "display_name": "Python 3",
   "language": "python",
   "name": "python3"
  },
  "language_info": {
   "codemirror_mode": {
    "name": "ipython",
    "version": 3
   },
   "file_extension": ".py",
   "mimetype": "text/x-python",
   "name": "python",
   "nbconvert_exporter": "python",
   "pygments_lexer": "ipython3",
   "version": "3.10.11"
  }
 },
 "nbformat": 4,
 "nbformat_minor": 2
}
